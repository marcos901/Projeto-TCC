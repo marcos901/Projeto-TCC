{
 "cells": [
  {
   "cell_type": "code",
   "execution_count": 2,
   "metadata": {},
   "outputs": [],
   "source": [
    "#importandoa as biblioetcas usadas para a preparação dos dados e predição\n",
    "import pandas as pd\n",
    "import numpy as np\n",
    "import matplotlib.pyplot as plt\n",
    "import seaborn as sns\n",
    "%matplotlib inline"
   ]
  },
  {
   "cell_type": "code",
   "execution_count": 3,
   "metadata": {},
   "outputs": [],
   "source": [
    "#importando as biblioteca da api\n",
    "from nba_api.stats.static import teams\n",
    "from nba_api.stats.endpoints import leaguegamefinder\n",
    "#buscando todos os jogos\n",
    "result = leaguegamefinder.LeagueGameFinder()\n",
    "todosJogos = result.get_data_frames()[0]"
   ]
  },
  {
   "cell_type": "code",
   "execution_count": 4,
   "metadata": {},
   "outputs": [
    {
     "data": {
      "text/plain": [
       "<bound method DataFrame.info of       SEASON_ID     TEAM_ID TEAM_ABBREVIATION            TEAM_NAME  \\\n",
       "0         22019  1610612754               IND       Indiana Pacers   \n",
       "1         22019  1610612746               LAC          LA Clippers   \n",
       "2         22019  1610612758               SAC     Sacramento Kings   \n",
       "3         22019  1610612739               CLE  Cleveland Cavaliers   \n",
       "4         22019  1610612759               SAS    San Antonio Spurs   \n",
       "...         ...         ...               ...                  ...   \n",
       "29995     22012  1610612755               PHI   Philadelphia 76ers   \n",
       "29996     22012  1610612745               HOU      Houston Rockets   \n",
       "29997     22012  1610612740               NOH  New Orleans Hornets   \n",
       "29998     22012  1610612748               MIA           Miami Heat   \n",
       "29999     22012  1610612758               SAC     Sacramento Kings   \n",
       "\n",
       "          GAME_ID   GAME_DATE      MATCHUP WL  MIN  PTS  ...  FT_PCT  OREB  \\\n",
       "0      0021900085  2019-11-03  IND vs. CHI  W  241  108  ...   0.741    10   \n",
       "1      0021900090  2019-11-03  LAC vs. UTA  W  240  105  ...   0.765    18   \n",
       "2      0021900087  2019-11-03    SAC @ NYK  W  241  113  ...   0.640     9   \n",
       "3      0021900089  2019-11-03  CLE vs. DAL  L  240  111  ...   0.682    12   \n",
       "4      0021900088  2019-11-03  SAS vs. LAL  L  239   96  ...   0.828     8   \n",
       "...           ...         ...          ... ..  ...  ...  ...     ...   ...   \n",
       "29995  0021201197  2013-04-14  PHI vs. CLE  W  241   91  ...   0.636    10   \n",
       "29996  0021201200  2013-04-14  HOU vs. SAC  W  238  121  ...   0.750     6   \n",
       "29997  0021201199  2013-04-14  NOH vs. DAL  L  241   89  ...   0.778    20   \n",
       "29998  0021201194  2013-04-14  MIA vs. CHI  W  240  105  ...   0.659     4   \n",
       "29999  0021201200  2013-04-14    SAC @ HOU  L  239  100  ...   0.824    15   \n",
       "\n",
       "       DREB  REB  AST  STL  BLK  TOV  PF  PLUS_MINUS  \n",
       "0        39   49   28    6   10   16  24        13.0  \n",
       "1        36   54   15    7    6    9  25        11.0  \n",
       "2        40   49   25    7    5   13  29        21.0  \n",
       "3        29   41   24    9    4    9  14       -20.0  \n",
       "4        39   47   23   11    4   17  18        -7.0  \n",
       "...     ...  ...  ...  ...  ...  ...  ..         ...  \n",
       "29995    29   39   27    9    9   12  12        14.0  \n",
       "29996    40   46   28   11   12   17  17        21.0  \n",
       "29997    27   47   22    4    2   10  12       -18.0  \n",
       "29998    40   44   23    7    8   15  27        12.0  \n",
       "29999    30   45   24   10   10   15  21       -21.0  \n",
       "\n",
       "[30000 rows x 28 columns]>"
      ]
     },
     "execution_count": 4,
     "metadata": {},
     "output_type": "execute_result"
    }
   ],
   "source": [
    "#tranformando os dados da api em um dataframe\n",
    "df = pd.DataFrame(todosJogos)\n",
    "df.info"
   ]
  },
  {
   "cell_type": "code",
   "execution_count": 20,
   "metadata": {},
   "outputs": [
    {
     "data": {
      "text/html": [
       "<div>\n",
       "<style scoped>\n",
       "    .dataframe tbody tr th:only-of-type {\n",
       "        vertical-align: middle;\n",
       "    }\n",
       "\n",
       "    .dataframe tbody tr th {\n",
       "        vertical-align: top;\n",
       "    }\n",
       "\n",
       "    .dataframe thead th {\n",
       "        text-align: right;\n",
       "    }\n",
       "</style>\n",
       "<table border=\"1\" class=\"dataframe\">\n",
       "  <thead>\n",
       "    <tr style=\"text-align: right;\">\n",
       "      <th></th>\n",
       "      <th>WL</th>\n",
       "      <th>MIN</th>\n",
       "      <th>PTS</th>\n",
       "      <th>FGM</th>\n",
       "      <th>FGA</th>\n",
       "      <th>FG_PCT</th>\n",
       "      <th>FG3M</th>\n",
       "      <th>FG3A</th>\n",
       "      <th>FG3_PCT</th>\n",
       "      <th>FTM</th>\n",
       "      <th>...</th>\n",
       "      <th>FT_PCT</th>\n",
       "      <th>OREB</th>\n",
       "      <th>DREB</th>\n",
       "      <th>REB</th>\n",
       "      <th>AST</th>\n",
       "      <th>STL</th>\n",
       "      <th>BLK</th>\n",
       "      <th>TOV</th>\n",
       "      <th>PF</th>\n",
       "      <th>PLUS_MINUS</th>\n",
       "    </tr>\n",
       "  </thead>\n",
       "  <tbody>\n",
       "    <tr>\n",
       "      <td>0</td>\n",
       "      <td>W</td>\n",
       "      <td>238</td>\n",
       "      <td>115</td>\n",
       "      <td>41</td>\n",
       "      <td>89</td>\n",
       "      <td>0.461</td>\n",
       "      <td>13</td>\n",
       "      <td>38</td>\n",
       "      <td>0.342</td>\n",
       "      <td>20</td>\n",
       "      <td>...</td>\n",
       "      <td>0.800</td>\n",
       "      <td>10</td>\n",
       "      <td>41</td>\n",
       "      <td>51</td>\n",
       "      <td>30</td>\n",
       "      <td>4</td>\n",
       "      <td>7</td>\n",
       "      <td>11</td>\n",
       "      <td>22</td>\n",
       "      <td>10.0</td>\n",
       "    </tr>\n",
       "    <tr>\n",
       "      <td>1</td>\n",
       "      <td>L</td>\n",
       "      <td>242</td>\n",
       "      <td>101</td>\n",
       "      <td>39</td>\n",
       "      <td>93</td>\n",
       "      <td>0.419</td>\n",
       "      <td>7</td>\n",
       "      <td>33</td>\n",
       "      <td>0.212</td>\n",
       "      <td>8</td>\n",
       "      <td>...</td>\n",
       "      <td>0.444</td>\n",
       "      <td>11</td>\n",
       "      <td>37</td>\n",
       "      <td>48</td>\n",
       "      <td>16</td>\n",
       "      <td>16</td>\n",
       "      <td>3</td>\n",
       "      <td>17</td>\n",
       "      <td>32</td>\n",
       "      <td>-5.0</td>\n",
       "    </tr>\n",
       "    <tr>\n",
       "      <td>2</td>\n",
       "      <td>W</td>\n",
       "      <td>241</td>\n",
       "      <td>115</td>\n",
       "      <td>41</td>\n",
       "      <td>90</td>\n",
       "      <td>0.456</td>\n",
       "      <td>15</td>\n",
       "      <td>37</td>\n",
       "      <td>0.405</td>\n",
       "      <td>18</td>\n",
       "      <td>...</td>\n",
       "      <td>0.783</td>\n",
       "      <td>8</td>\n",
       "      <td>36</td>\n",
       "      <td>44</td>\n",
       "      <td>20</td>\n",
       "      <td>8</td>\n",
       "      <td>11</td>\n",
       "      <td>12</td>\n",
       "      <td>20</td>\n",
       "      <td>11.0</td>\n",
       "    </tr>\n",
       "    <tr>\n",
       "      <td>3</td>\n",
       "      <td>W</td>\n",
       "      <td>239</td>\n",
       "      <td>106</td>\n",
       "      <td>33</td>\n",
       "      <td>81</td>\n",
       "      <td>0.407</td>\n",
       "      <td>16</td>\n",
       "      <td>41</td>\n",
       "      <td>0.390</td>\n",
       "      <td>15</td>\n",
       "      <td>...</td>\n",
       "      <td>0.625</td>\n",
       "      <td>9</td>\n",
       "      <td>41</td>\n",
       "      <td>50</td>\n",
       "      <td>17</td>\n",
       "      <td>9</td>\n",
       "      <td>1</td>\n",
       "      <td>24</td>\n",
       "      <td>36</td>\n",
       "      <td>5.0</td>\n",
       "    </tr>\n",
       "    <tr>\n",
       "      <td>4</td>\n",
       "      <td>W</td>\n",
       "      <td>240</td>\n",
       "      <td>129</td>\n",
       "      <td>54</td>\n",
       "      <td>107</td>\n",
       "      <td>0.505</td>\n",
       "      <td>11</td>\n",
       "      <td>33</td>\n",
       "      <td>0.333</td>\n",
       "      <td>10</td>\n",
       "      <td>...</td>\n",
       "      <td>0.833</td>\n",
       "      <td>13</td>\n",
       "      <td>33</td>\n",
       "      <td>46</td>\n",
       "      <td>36</td>\n",
       "      <td>11</td>\n",
       "      <td>8</td>\n",
       "      <td>11</td>\n",
       "      <td>23</td>\n",
       "      <td>1.0</td>\n",
       "    </tr>\n",
       "  </tbody>\n",
       "</table>\n",
       "<p>5 rows × 21 columns</p>\n",
       "</div>"
      ],
      "text/plain": [
       "  WL  MIN  PTS  FGM  FGA  FG_PCT  FG3M  FG3A  FG3_PCT  FTM  ...  FT_PCT  OREB  \\\n",
       "0  W  238  115   41   89   0.461    13    38    0.342   20  ...   0.800    10   \n",
       "1  L  242  101   39   93   0.419     7    33    0.212    8  ...   0.444    11   \n",
       "2  W  241  115   41   90   0.456    15    37    0.405   18  ...   0.783     8   \n",
       "3  W  239  106   33   81   0.407    16    41    0.390   15  ...   0.625     9   \n",
       "4  W  240  129   54  107   0.505    11    33    0.333   10  ...   0.833    13   \n",
       "\n",
       "   DREB  REB  AST  STL  BLK  TOV  PF  PLUS_MINUS  \n",
       "0    41   51   30    4    7   11  22        10.0  \n",
       "1    37   48   16   16    3   17  32        -5.0  \n",
       "2    36   44   20    8   11   12  20        11.0  \n",
       "3    41   50   17    9    1   24  36         5.0  \n",
       "4    33   46   36   11    8   11  23         1.0  \n",
       "\n",
       "[5 rows x 21 columns]"
      ]
     },
     "execution_count": 20,
     "metadata": {},
     "output_type": "execute_result"
    }
   ],
   "source": [
    "#retirando os dados que nao sera usado na api\n",
    "df.drop(['SEASON_ID', 'TEAM_ID', 'TEAM_ABBREVIATION', 'TEAM_NAME', 'GAME_ID','GAME_DATE', 'MATCHUP'], axis=1, inplace=True)\n",
    "df.head()"
   ]
  },
  {
   "cell_type": "code",
   "execution_count": 21,
   "metadata": {},
   "outputs": [],
   "source": [
    "from sklearn import preprocessing\n",
    "le = preprocessing.LabelEncoder()\n",
    "df['WL'] = pd.get_dummies(df['WL'])"
   ]
  },
  {
   "cell_type": "code",
   "execution_count": 22,
   "metadata": {},
   "outputs": [],
   "source": [
    "#importando para separar dos dados de teste e de treino\n",
    "from sklearn.model_selection import train_test_split"
   ]
  },
  {
   "cell_type": "code",
   "execution_count": 23,
   "metadata": {},
   "outputs": [],
   "source": [
    "#separando a base de dados\n",
    "x = df.drop('WL',axis=1)\n",
    "x = x.fillna(x.mean())\n",
    "y = df['WL']\n",
    "y = y.fillna(y.mean())"
   ]
  },
  {
   "cell_type": "code",
   "execution_count": 24,
   "metadata": {},
   "outputs": [],
   "source": [
    "#separando os dados de treino de teste sendo 40% para teste e 60% para treino e escolhedo o um random \n",
    "x_treino, x_teste, y_treino, y_teste = train_test_split(x,y,test_size=0.3,random_state=101)\n",
    "aux = y_teste.reset_index()\n",
    "aux.drop('index',axis=1,inplace=True)"
   ]
  },
  {
   "cell_type": "code",
   "execution_count": 25,
   "metadata": {},
   "outputs": [],
   "source": [
    "#importando o algoritmo de arvore de decisão\n",
    "from sklearn.svm import SVC\n",
    "#gamma='auto'; gamma='scale'\n",
    "svc = SVC(gamma='auto')"
   ]
  },
  {
   "cell_type": "code",
   "execution_count": 26,
   "metadata": {},
   "outputs": [
    {
     "data": {
      "text/plain": [
       "SVC(C=1.0, cache_size=200, class_weight=None, coef0=0.0,\n",
       "    decision_function_shape='ovr', degree=3, gamma='auto', kernel='rbf',\n",
       "    max_iter=-1, probability=False, random_state=None, shrinking=True,\n",
       "    tol=0.001, verbose=False)"
      ]
     },
     "execution_count": 26,
     "metadata": {},
     "output_type": "execute_result"
    }
   ],
   "source": [
    "svc.fit(x_treino,y_treino)"
   ]
  },
  {
   "cell_type": "code",
   "execution_count": 27,
   "metadata": {},
   "outputs": [],
   "source": [
    "predicao = svc.predict(x_teste)"
   ]
  },
  {
   "cell_type": "code",
   "execution_count": 28,
   "metadata": {},
   "outputs": [
    {
     "data": {
      "text/plain": [
       "Text(0, 0.5, 'Y valor predito')"
      ]
     },
     "execution_count": 28,
     "metadata": {},
     "output_type": "execute_result"
    },
    {
     "data": {
      "image/png": "[encoded data removed]",
      "text/plain": [
       "<Figure size 1440x360 with 1 Axes>"
      ]
     },
     "metadata": {
      "needs_background": "light"
     },
     "output_type": "display_data"
    }
   ],
   "source": [
    "plt.figure(figsize=(20,5))\n",
    "plt.plot(aux[:150], 'o')\n",
    "plt.plot(predicao[:150], '+')\n",
    "plt.xlabel('X valor real')\n",
    "plt.ylabel('Y valor predito')"
   ]
  },
  {
   "cell_type": "code",
   "execution_count": 29,
   "metadata": {},
   "outputs": [
    {
     "name": "stdout",
     "output_type": "stream",
     "text": [
      "MAE: 49.163777777777774\n",
      "MSE: 0.19822222222222222\n",
      "RMSE: 0.44522154285504\n"
     ]
    }
   ],
   "source": [
    "from sklearn import metrics\n",
    "#MAE é o mais fácil de entender, porque é o erro médio.\n",
    "#MSE é mais popular que o MAE, porque a MSE \"puniria\" erros maiores, o que tende a ser útil no mundo real.\n",
    "#RMSE é ainda mais popular do que MSE, porque o RMSE é interpretável nas unidades \"y\".\n",
    "print('MAE:', metrics.mean_absolute_error(y_teste, predicao))\n",
    "print('MSE:', metrics.mean_squared_error(y_teste, predicao))\n",
    "print('RMSE:', np.sqrt(metrics.mean_squared_error(y_teste, predicao)))"
   ]
  },
  {
   "cell_type": "code",
   "execution_count": 30,
   "metadata": {},
   "outputs": [
    {
     "name": "stdout",
     "output_type": "stream",
     "text": [
      "Variance score: 0.80\n"
     ]
    }
   ],
   "source": [
    "print('Variance score: %.2f' % svc.score(x_teste,aux))"
   ]
  },
  {
   "cell_type": "code",
   "execution_count": null,
   "metadata": {},
   "outputs": [],
   "source": [
    "#fazendo a predicao usando cross-valodation\n",
    "from sklearn.model_selection import cross_val_score\n",
    "scores = cross_val_score(svc,x,y, cv=10)"
   ]
  },
  {
   "cell_type": "code",
   "execution_count": null,
   "metadata": {},
   "outputs": [],
   "source": [
    "print('Variance Cros-Validation rscore: %.2f' % max(scores))"
   ]
  },
  {
   "cell_type": "code",
   "execution_count": null,
   "metadata": {},
   "outputs": [],
   "source": [
    "from sklearn.metrics import classification_report\n",
    "print(classification_report(y_teste,predicao))"
   ]
  },
  {
   "cell_type": "code",
   "execution_count": null,
   "metadata": {},
   "outputs": [],
   "source": [
    "from sklearn.metrics import confusion_matrix\n",
    "print(confusion_matrix(y_teste,predicao))"
   ]
  },
  {
   "cell_type": "code",
   "execution_count": 4,
   "metadata": {},
   "outputs": [
    {
     "data": {
      "image/png": "[encoded data removed]",
      "text/plain": [
       "<Figure size 1080x360 with 2 Axes>"
      ]
     },
     "metadata": {
      "needs_background": "light"
     },
     "output_type": "display_data"
    }
   ],
   "source": [
    "plt.figure(figsize=(15,5))\n",
    "plt.suptitle('Máquinas De Vetores De Suporte')\n",
    "\n",
    "plt.subplot(1, 2, 1)\n",
    "plt.title(\"Teste Normal\")\n",
    "\n",
    "graph = sns.barplot(x=['VxD'], y=[87],palette='bright')\n",
    "for p in graph.patches:\n",
    "    graph.annotate(format(p.get_height(), '.2f') + \"%\", (p.get_x() + p.get_width() / 2., p.get_height()), ha = 'center', va = 'center', xytext = (0, 8), textcoords = 'offset points')\n",
    "plt.xlabel(\"Abordagem\")\n",
    "plt.ylabel(\"Precisão\")\n",
    "plt.ylim([0, 100])\n",
    "\n",
    "plt.subplot(1, 2, 2)\n",
    "plt.title(\"Cross Validation\")\n",
    "graph2 = sns.barplot(x=['VxD'], y=[91.7],palette='bright')\n",
    "for p in graph2.patches:\n",
    "    graph2.annotate(format(p.get_height(), '.2f') + \"%\", (p.get_x() + p.get_width() / 2., p.get_height()), ha = 'center', va = 'center', xytext = (0, 8), textcoords = 'offset points')\n",
    "plt.xlabel(\"Abordagem\")\n",
    "plt.ylabel(\"Precisão\")\n",
    "plt.ylim([0, 100])\n",
    "plt.savefig('img/SVMAPI.png')"
   ]
  },
  {
   "cell_type": "code",
   "execution_count": null,
   "metadata": {},
   "outputs": [],
   "source": []
  }
 ],
 "metadata": {
  "kernelspec": {
   "display_name": "Python 3",
   "language": "python",
   "name": "python3"
  },
  "language_info": {
   "codemirror_mode": {
    "name": "ipython",
    "version": 3
   },
   "file_extension": ".py",
   "mimetype": "text/x-python",
   "name": "python",
   "nbconvert_exporter": "python",
   "pygments_lexer": "ipython3",
   "version": "3.7.4"
  }
 },
 "nbformat": 4,
 "nbformat_minor": 4
}
