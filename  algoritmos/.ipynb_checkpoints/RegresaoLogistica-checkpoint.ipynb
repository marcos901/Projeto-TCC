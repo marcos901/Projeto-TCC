{
 "cells": [
  {
   "cell_type": "code",
   "execution_count": 2,
   "metadata": {},
   "outputs": [],
   "source": [
    "#importandoa as biblioetcas usadas para a preparação dos dados e predição\n",
    "import pandas as pd\n",
    "import numpy as np\n",
    "import matplotlib.pyplot as plt\n",
    "import seaborn as sns\n",
    "%matplotlib inline"
   ]
  },
  {
   "cell_type": "code",
   "execution_count": 3,
   "metadata": {},
   "outputs": [],
   "source": [
    "#importando o csv\n",
    "df = pd.read_csv(\"nba.games.stats.csv\")"
   ]
  },
  {
   "cell_type": "code",
   "execution_count": 4,
   "metadata": {},
   "outputs": [
    {
     "data": {
      "text/html": [
       "<div>\n",
       "<style scoped>\n",
       "    .dataframe tbody tr th:only-of-type {\n",
       "        vertical-align: middle;\n",
       "    }\n",
       "\n",
       "    .dataframe tbody tr th {\n",
       "        vertical-align: top;\n",
       "    }\n",
       "\n",
       "    .dataframe thead th {\n",
       "        text-align: right;\n",
       "    }\n",
       "</style>\n",
       "<table border=\"1\" class=\"dataframe\">\n",
       "  <thead>\n",
       "    <tr style=\"text-align: right;\">\n",
       "      <th></th>\n",
       "      <th>Unnamed: 0</th>\n",
       "      <th>Team</th>\n",
       "      <th>Game</th>\n",
       "      <th>Date</th>\n",
       "      <th>Home</th>\n",
       "      <th>Opponent</th>\n",
       "      <th>WINorLOSS</th>\n",
       "      <th>TeamPoints</th>\n",
       "      <th>OpponentPoints</th>\n",
       "      <th>FieldGoals</th>\n",
       "      <th>...</th>\n",
       "      <th>Opp.FreeThrows</th>\n",
       "      <th>Opp.FreeThrowsAttempted</th>\n",
       "      <th>Opp.FreeThrows.</th>\n",
       "      <th>Opp.OffRebounds</th>\n",
       "      <th>Opp.TotalRebounds</th>\n",
       "      <th>Opp.Assists</th>\n",
       "      <th>Opp.Steals</th>\n",
       "      <th>Opp.Blocks</th>\n",
       "      <th>Opp.Turnovers</th>\n",
       "      <th>Opp.TotalFouls</th>\n",
       "    </tr>\n",
       "  </thead>\n",
       "  <tbody>\n",
       "    <tr>\n",
       "      <td>0</td>\n",
       "      <td>1</td>\n",
       "      <td>ATL</td>\n",
       "      <td>1</td>\n",
       "      <td>2014-10-29</td>\n",
       "      <td>Away</td>\n",
       "      <td>TOR</td>\n",
       "      <td>L</td>\n",
       "      <td>102</td>\n",
       "      <td>109</td>\n",
       "      <td>40</td>\n",
       "      <td>...</td>\n",
       "      <td>27</td>\n",
       "      <td>33</td>\n",
       "      <td>0.818</td>\n",
       "      <td>16</td>\n",
       "      <td>48</td>\n",
       "      <td>26</td>\n",
       "      <td>13</td>\n",
       "      <td>9</td>\n",
       "      <td>9</td>\n",
       "      <td>22</td>\n",
       "    </tr>\n",
       "    <tr>\n",
       "      <td>1</td>\n",
       "      <td>2</td>\n",
       "      <td>ATL</td>\n",
       "      <td>2</td>\n",
       "      <td>2014-11-01</td>\n",
       "      <td>Home</td>\n",
       "      <td>IND</td>\n",
       "      <td>W</td>\n",
       "      <td>102</td>\n",
       "      <td>92</td>\n",
       "      <td>35</td>\n",
       "      <td>...</td>\n",
       "      <td>18</td>\n",
       "      <td>21</td>\n",
       "      <td>0.857</td>\n",
       "      <td>11</td>\n",
       "      <td>44</td>\n",
       "      <td>25</td>\n",
       "      <td>5</td>\n",
       "      <td>5</td>\n",
       "      <td>18</td>\n",
       "      <td>26</td>\n",
       "    </tr>\n",
       "    <tr>\n",
       "      <td>2</td>\n",
       "      <td>3</td>\n",
       "      <td>ATL</td>\n",
       "      <td>3</td>\n",
       "      <td>2014-11-05</td>\n",
       "      <td>Away</td>\n",
       "      <td>SAS</td>\n",
       "      <td>L</td>\n",
       "      <td>92</td>\n",
       "      <td>94</td>\n",
       "      <td>38</td>\n",
       "      <td>...</td>\n",
       "      <td>27</td>\n",
       "      <td>38</td>\n",
       "      <td>0.711</td>\n",
       "      <td>11</td>\n",
       "      <td>50</td>\n",
       "      <td>25</td>\n",
       "      <td>7</td>\n",
       "      <td>9</td>\n",
       "      <td>19</td>\n",
       "      <td>15</td>\n",
       "    </tr>\n",
       "    <tr>\n",
       "      <td>3</td>\n",
       "      <td>4</td>\n",
       "      <td>ATL</td>\n",
       "      <td>4</td>\n",
       "      <td>2014-11-07</td>\n",
       "      <td>Away</td>\n",
       "      <td>CHO</td>\n",
       "      <td>L</td>\n",
       "      <td>119</td>\n",
       "      <td>122</td>\n",
       "      <td>43</td>\n",
       "      <td>...</td>\n",
       "      <td>20</td>\n",
       "      <td>27</td>\n",
       "      <td>0.741</td>\n",
       "      <td>11</td>\n",
       "      <td>51</td>\n",
       "      <td>31</td>\n",
       "      <td>6</td>\n",
       "      <td>7</td>\n",
       "      <td>19</td>\n",
       "      <td>30</td>\n",
       "    </tr>\n",
       "    <tr>\n",
       "      <td>4</td>\n",
       "      <td>5</td>\n",
       "      <td>ATL</td>\n",
       "      <td>5</td>\n",
       "      <td>2014-11-08</td>\n",
       "      <td>Home</td>\n",
       "      <td>NYK</td>\n",
       "      <td>W</td>\n",
       "      <td>103</td>\n",
       "      <td>96</td>\n",
       "      <td>33</td>\n",
       "      <td>...</td>\n",
       "      <td>8</td>\n",
       "      <td>11</td>\n",
       "      <td>0.727</td>\n",
       "      <td>13</td>\n",
       "      <td>44</td>\n",
       "      <td>26</td>\n",
       "      <td>2</td>\n",
       "      <td>6</td>\n",
       "      <td>15</td>\n",
       "      <td>29</td>\n",
       "    </tr>\n",
       "  </tbody>\n",
       "</table>\n",
       "<p>5 rows × 41 columns</p>\n",
       "</div>"
      ],
      "text/plain": [
       "   Unnamed: 0 Team  Game        Date  Home Opponent WINorLOSS  TeamPoints  \\\n",
       "0           1  ATL     1  2014-10-29  Away      TOR         L         102   \n",
       "1           2  ATL     2  2014-11-01  Home      IND         W         102   \n",
       "2           3  ATL     3  2014-11-05  Away      SAS         L          92   \n",
       "3           4  ATL     4  2014-11-07  Away      CHO         L         119   \n",
       "4           5  ATL     5  2014-11-08  Home      NYK         W         103   \n",
       "\n",
       "   OpponentPoints  FieldGoals  ...  Opp.FreeThrows  Opp.FreeThrowsAttempted  \\\n",
       "0             109          40  ...              27                       33   \n",
       "1              92          35  ...              18                       21   \n",
       "2              94          38  ...              27                       38   \n",
       "3             122          43  ...              20                       27   \n",
       "4              96          33  ...               8                       11   \n",
       "\n",
       "   Opp.FreeThrows.  Opp.OffRebounds  Opp.TotalRebounds  Opp.Assists  \\\n",
       "0            0.818               16                 48           26   \n",
       "1            0.857               11                 44           25   \n",
       "2            0.711               11                 50           25   \n",
       "3            0.741               11                 51           31   \n",
       "4            0.727               13                 44           26   \n",
       "\n",
       "   Opp.Steals  Opp.Blocks  Opp.Turnovers  Opp.TotalFouls  \n",
       "0          13           9              9              22  \n",
       "1           5           5             18              26  \n",
       "2           7           9             19              15  \n",
       "3           6           7             19              30  \n",
       "4           2           6             15              29  \n",
       "\n",
       "[5 rows x 41 columns]"
      ]
     },
     "execution_count": 4,
     "metadata": {},
     "output_type": "execute_result"
    }
   ],
   "source": [
    "df.columns\n",
    "df.head()"
   ]
  },
  {
   "cell_type": "code",
   "execution_count": 5,
   "metadata": {},
   "outputs": [
    {
     "data": {
      "text/plain": [
       "<bound method DataFrame.info of      WINorLOSS  TeamPoints  OpponentPoints  FieldGoals  FieldGoalsAttempted  \\\n",
       "0            L         102             109          40                   80   \n",
       "1            W         102              92          35                   69   \n",
       "2            L          92              94          38                   92   \n",
       "3            L         119             122          43                   93   \n",
       "4            W         103              96          33                   81   \n",
       "...        ...         ...             ...         ...                  ...   \n",
       "9835         L         104             120          38                   72   \n",
       "9836         L         115             119          47                   94   \n",
       "9837         L          97             103          35                   87   \n",
       "9838         W         113             101          41                   83   \n",
       "9839         L          92             101          33                   95   \n",
       "\n",
       "      FieldGoals.  X3PointShots  X3PointShotsAttempted  X3PointShots.  \\\n",
       "0           0.500            13                     22          0.591   \n",
       "1           0.507             7                     20          0.350   \n",
       "2           0.413             8                     25          0.320   \n",
       "3           0.462            13                     33          0.394   \n",
       "4           0.407             9                     22          0.409   \n",
       "...           ...           ...                    ...            ...   \n",
       "9835        0.528            12                     25          0.480   \n",
       "9836        0.500             9                     21          0.429   \n",
       "9837        0.402             9                     25          0.360   \n",
       "9838        0.494            15                     30          0.500   \n",
       "9839        0.347            10                     34          0.294   \n",
       "\n",
       "      FreeThrows  ...  Opp.FreeThrows  Opp.FreeThrowsAttempted  \\\n",
       "0              9  ...              27                       33   \n",
       "1             25  ...              18                       21   \n",
       "2              8  ...              27                       38   \n",
       "3             20  ...              20                       27   \n",
       "4             28  ...               8                       11   \n",
       "...          ...  ...             ...                      ...   \n",
       "9835          16  ...              18                       27   \n",
       "9836          12  ...              22                       28   \n",
       "9837          18  ...              16                       23   \n",
       "9838          16  ...              22                       27   \n",
       "9839          16  ...              22                       27   \n",
       "\n",
       "      Opp.FreeThrows.  Opp.OffRebounds  Opp.TotalRebounds  Opp.Assists  \\\n",
       "0               0.818               16                 48           26   \n",
       "1               0.857               11                 44           25   \n",
       "2               0.711               11                 50           25   \n",
       "3               0.741               11                 51           31   \n",
       "4               0.727               13                 44           26   \n",
       "...               ...              ...                ...          ...   \n",
       "9835            0.667               10                 46           26   \n",
       "9836            0.786                5                 35           26   \n",
       "9837            0.696                7                 50           24   \n",
       "9838            0.815               13                 44           22   \n",
       "9839            0.815                6                 42           20   \n",
       "\n",
       "      Opp.Steals  Opp.Blocks  Opp.Turnovers  Opp.TotalFouls  \n",
       "0             13           9              9              22  \n",
       "1              5           5             18              26  \n",
       "2              7           9             19              15  \n",
       "3              6           7             19              30  \n",
       "4              2           6             15              29  \n",
       "...          ...         ...            ...             ...  \n",
       "9835          13           3              9              14  \n",
       "9836          10           3             16              14  \n",
       "9837           5           5             18              22  \n",
       "9838          14           1             16              18  \n",
       "9839           6           7             16              27  \n",
       "\n",
       "[9840 rows x 35 columns]>"
      ]
     },
     "execution_count": 5,
     "metadata": {},
     "output_type": "execute_result"
    }
   ],
   "source": [
    "df.drop(['Unnamed: 0', 'Team', 'Game', 'Date', 'Home', 'Opponent'], axis=1, inplace=True)\n",
    "df.head()\n",
    "df.info"
   ]
  },
  {
   "cell_type": "code",
   "execution_count": 6,
   "metadata": {},
   "outputs": [],
   "source": [
    "from sklearn import preprocessing\n",
    "le = preprocessing.LabelEncoder()\n",
    "df['WINorLOSS'] = pd.get_dummies(df['WINorLOSS'])"
   ]
  },
  {
   "cell_type": "code",
   "execution_count": 7,
   "metadata": {},
   "outputs": [],
   "source": [
    "#importando o algoritmo de vou uzar para a prediçao e inicializando\n",
    "from sklearn.linear_model import LogisticRegression"
   ]
  },
  {
   "cell_type": "code",
   "execution_count": 8,
   "metadata": {},
   "outputs": [],
   "source": [
    "#importando para separar dos dados de teste e de treino\n",
    "from sklearn.model_selection import train_test_split"
   ]
  },
  {
   "cell_type": "code",
   "execution_count": 9,
   "metadata": {},
   "outputs": [],
   "source": [
    "#separando a base de dados\n",
    "x = df.drop('WINorLOSS',axis=1)\n",
    "x = x.fillna(x.mean())\n",
    "y = df['WINorLOSS']\n",
    "y = y.fillna(y.mean())"
   ]
  },
  {
   "cell_type": "code",
   "execution_count": 10,
   "metadata": {},
   "outputs": [],
   "source": [
    "#separando os dados de treino de teste sendo 40% para teste e 60% para treino e escolhedo o um random \n",
    "x_treino, x_teste, y_treino, y_teste = train_test_split(x,y,test_size=0.3,random_state=101)\n",
    "aux = y_teste.reset_index()\n",
    "aux.drop('index',axis=1,inplace=True)"
   ]
  },
  {
   "cell_type": "code",
   "execution_count": 11,
   "metadata": {},
   "outputs": [],
   "source": [
    "logModel = LogisticRegression()"
   ]
  },
  {
   "cell_type": "code",
   "execution_count": 12,
   "metadata": {},
   "outputs": [
    {
     "name": "stderr",
     "output_type": "stream",
     "text": [
      "/home/marcos/miniconda3/lib/python3.7/site-packages/sklearn/linear_model/logistic.py:432: FutureWarning: Default solver will be changed to 'lbfgs' in 0.22. Specify a solver to silence this warning.\n",
      "  FutureWarning)\n"
     ]
    },
    {
     "data": {
      "text/plain": [
       "LogisticRegression(C=1.0, class_weight=None, dual=False, fit_intercept=True,\n",
       "                   intercept_scaling=1, l1_ratio=None, max_iter=100,\n",
       "                   multi_class='warn', n_jobs=None, penalty='l2',\n",
       "                   random_state=None, solver='warn', tol=0.0001, verbose=0,\n",
       "                   warm_start=False)"
      ]
     },
     "execution_count": 12,
     "metadata": {},
     "output_type": "execute_result"
    }
   ],
   "source": [
    "#treinando o algorlitmo\n",
    "logModel.fit(x_treino,y_treino)"
   ]
  },
  {
   "cell_type": "code",
   "execution_count": 13,
   "metadata": {},
   "outputs": [],
   "source": [
    "#fazendo a prediçao\n",
    "predicao = logModel.predict(x_teste)"
   ]
  },
  {
   "cell_type": "code",
   "execution_count": 14,
   "metadata": {},
   "outputs": [
    {
     "data": {
      "text/plain": [
       "Text(0, 0.5, 'Y valor predito')"
      ]
     },
     "execution_count": 14,
     "metadata": {},
     "output_type": "execute_result"
    },
    {
     "data": {
      "image/png": "[encoded data removed]",
      "text/plain": [
       "<Figure size 1440x360 with 1 Axes>"
      ]
     },
     "metadata": {
      "needs_background": "light"
     },
     "output_type": "display_data"
    }
   ],
   "source": [
    "plt.figure(figsize=(20,5))\n",
    "plt.plot(aux[:150], 'o')\n",
    "plt.plot(predicao[:150], '+')\n",
    "plt.xlabel('X valor real')\n",
    "plt.ylabel('Y valor predito')"
   ]
  },
  {
   "cell_type": "code",
   "execution_count": 15,
   "metadata": {},
   "outputs": [
    {
     "name": "stdout",
     "output_type": "stream",
     "text": [
      "MAE: 0.0\n",
      "MSE: 0.0\n",
      "RMSE: 0.0\n"
     ]
    }
   ],
   "source": [
    "from sklearn import metrics\n",
    "#MAE é o mais fácil de entender, porque é o erro médio.\n",
    "#MSE é mais popular que o MAE, porque a MSE \"puniria\" erros maiores, o que tende a ser útil no mundo real.\n",
    "#RMSE é ainda mais popular do que MSE, porque o RMSE é interpretável nas unidades \"y\".\n",
    "print('MAE:', metrics.mean_absolute_error(y_teste, predicao))\n",
    "print('MSE:', metrics.mean_squared_error(y_teste, predicao))\n",
    "print('RMSE:', np.sqrt(metrics.mean_squared_error(y_teste, predicao)))"
   ]
  },
  {
   "cell_type": "code",
   "execution_count": 16,
   "metadata": {},
   "outputs": [
    {
     "name": "stdout",
     "output_type": "stream",
     "text": [
      "Variance score: 1.00\n"
     ]
    }
   ],
   "source": [
    "print('Variance score: %.2f' % logModel.score(x_teste,aux))"
   ]
  },
  {
   "cell_type": "code",
   "execution_count": 17,
   "metadata": {},
   "outputs": [
    {
     "name": "stderr",
     "output_type": "stream",
     "text": [
      "/home/marcos/miniconda3/lib/python3.7/site-packages/sklearn/linear_model/logistic.py:432: FutureWarning: Default solver will be changed to 'lbfgs' in 0.22. Specify a solver to silence this warning.\n",
      "  FutureWarning)\n",
      "/home/marcos/miniconda3/lib/python3.7/site-packages/sklearn/linear_model/logistic.py:432: FutureWarning: Default solver will be changed to 'lbfgs' in 0.22. Specify a solver to silence this warning.\n",
      "  FutureWarning)\n",
      "/home/marcos/miniconda3/lib/python3.7/site-packages/sklearn/linear_model/logistic.py:432: FutureWarning: Default solver will be changed to 'lbfgs' in 0.22. Specify a solver to silence this warning.\n",
      "  FutureWarning)\n",
      "/home/marcos/miniconda3/lib/python3.7/site-packages/sklearn/linear_model/logistic.py:432: FutureWarning: Default solver will be changed to 'lbfgs' in 0.22. Specify a solver to silence this warning.\n",
      "  FutureWarning)\n",
      "/home/marcos/miniconda3/lib/python3.7/site-packages/sklearn/linear_model/logistic.py:432: FutureWarning: Default solver will be changed to 'lbfgs' in 0.22. Specify a solver to silence this warning.\n",
      "  FutureWarning)\n",
      "/home/marcos/miniconda3/lib/python3.7/site-packages/sklearn/linear_model/logistic.py:432: FutureWarning: Default solver will be changed to 'lbfgs' in 0.22. Specify a solver to silence this warning.\n",
      "  FutureWarning)\n",
      "/home/marcos/miniconda3/lib/python3.7/site-packages/sklearn/linear_model/logistic.py:432: FutureWarning: Default solver will be changed to 'lbfgs' in 0.22. Specify a solver to silence this warning.\n",
      "  FutureWarning)\n",
      "/home/marcos/miniconda3/lib/python3.7/site-packages/sklearn/linear_model/logistic.py:432: FutureWarning: Default solver will be changed to 'lbfgs' in 0.22. Specify a solver to silence this warning.\n",
      "  FutureWarning)\n",
      "/home/marcos/miniconda3/lib/python3.7/site-packages/sklearn/linear_model/logistic.py:432: FutureWarning: Default solver will be changed to 'lbfgs' in 0.22. Specify a solver to silence this warning.\n",
      "  FutureWarning)\n",
      "/home/marcos/miniconda3/lib/python3.7/site-packages/sklearn/linear_model/logistic.py:432: FutureWarning: Default solver will be changed to 'lbfgs' in 0.22. Specify a solver to silence this warning.\n",
      "  FutureWarning)\n"
     ]
    }
   ],
   "source": [
    "#fazendo a predicao usando cross-valodation\n",
    "from sklearn.model_selection import cross_val_score\n",
    "scores = cross_val_score(logModel,x,y, cv=10)"
   ]
  },
  {
   "cell_type": "code",
   "execution_count": 18,
   "metadata": {},
   "outputs": [
    {
     "name": "stdout",
     "output_type": "stream",
     "text": [
      "Variance Cros-Validation rscore: 1.00\n"
     ]
    }
   ],
   "source": [
    "print('Variance Cros-Validation rscore: %.2f' % max(scores))"
   ]
  },
  {
   "cell_type": "code",
   "execution_count": 19,
   "metadata": {},
   "outputs": [
    {
     "name": "stdout",
     "output_type": "stream",
     "text": [
      "              precision    recall  f1-score   support\n",
      "\n",
      "           0       1.00      1.00      1.00      1476\n",
      "           1       1.00      1.00      1.00      1476\n",
      "\n",
      "    accuracy                           1.00      2952\n",
      "   macro avg       1.00      1.00      1.00      2952\n",
      "weighted avg       1.00      1.00      1.00      2952\n",
      "\n"
     ]
    }
   ],
   "source": [
    "from sklearn.metrics import classification_report\n",
    "print(classification_report(y_teste,predicao))"
   ]
  },
  {
   "cell_type": "code",
   "execution_count": 20,
   "metadata": {},
   "outputs": [
    {
     "name": "stdout",
     "output_type": "stream",
     "text": [
      "[[1476    0]\n",
      " [   0 1476]]\n"
     ]
    }
   ],
   "source": [
    "from sklearn.metrics import confusion_matrix\n",
    "print(confusion_matrix(y_teste,predicao))"
   ]
  },
  {
   "cell_type": "code",
   "execution_count": 23,
   "metadata": {},
   "outputs": [
    {
     "data": {
      "image/png": "[encoded data removed]",
      "text/plain": [
       "<Figure size 1080x360 with 2 Axes>"
      ]
     },
     "metadata": {
      "needs_background": "light"
     },
     "output_type": "display_data"
    }
   ],
   "source": [
    "plt.figure(figsize=(15,5))\n",
    "plt.suptitle('regressão logística')\n",
    "\n",
    "plt.subplot(1, 2, 1)\n",
    "plt.title(\"Base 1\")\n",
    "\n",
    "graph = sns.barplot(x=['VxD'], y=[99.8],palette='bright')\n",
    "for p in graph.patches:\n",
    "    graph.annotate(format(p.get_height(), '.2f') + \"%\", (p.get_x() + p.get_width() / 2., p.get_height()), ha = 'center', va = 'center', xytext = (0, 8), textcoords = 'offset points')\n",
    "plt.xlabel(\"Abordagem\")\n",
    "plt.ylabel(\"Precisão\")\n",
    "plt.ylim([0, 100])\n",
    "\n",
    "plt.subplot(1, 2, 2)\n",
    "\n",
    "graph2 = sns.barplot(x=['VxD'], y=[100],palette='bright')\n",
    "for p in graph2.patches:\n",
    "    graph2.annotate(format(p.get_height(), '.2f') + \"%\", (p.get_x() + p.get_width() / 2., p.get_height()), ha = 'center', va = 'center', xytext = (0, 8), textcoords = 'offset points')\n",
    "plt.xlabel(\"Abordagem\")\n",
    "plt.ylabel(\"Precisão\")\n",
    "plt.ylim([0, 100])\n",
    "plt.savefig('img/regressaologistocaAPI.png')"
   ]
  },
  {
   "cell_type": "code",
   "execution_count": null,
   "metadata": {},
   "outputs": [],
   "source": []
  }
 ],
 "metadata": {
  "kernelspec": {
   "display_name": "Python 3",
   "language": "python",
   "name": "python3"
  },
  "language_info": {
   "codemirror_mode": {
    "name": "ipython",
    "version": 3
   },
   "file_extension": ".py",
   "mimetype": "text/x-python",
   "name": "python",
   "nbconvert_exporter": "python",
   "pygments_lexer": "ipython3",
   "version": "3.7.4"
  }
 },
 "nbformat": 4,
 "nbformat_minor": 4
}
