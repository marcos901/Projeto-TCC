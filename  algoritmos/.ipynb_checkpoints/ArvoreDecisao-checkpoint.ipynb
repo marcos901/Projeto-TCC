{
 "cells": [
  {
   "cell_type": "code",
   "execution_count": 38,
   "metadata": {},
   "outputs": [],
   "source": [
    "#importandoa as biblioetcas usadas para a preparação dos dados e predição\n",
    "import pandas as pd\n",
    "import numpy as np\n",
    "import matplotlib.pyplot as plt\n",
    "import seaborn as sns\n",
    "%matplotlib inline"
   ]
  },
  {
   "cell_type": "code",
   "execution_count": 39,
   "metadata": {},
   "outputs": [],
   "source": [
    "#importando o csv\n",
    "df = pd.read_csv(\"nba.games.stats.csv\")"
   ]
  },
  {
   "cell_type": "code",
   "execution_count": 40,
   "metadata": {},
   "outputs": [
    {
     "data": {
      "text/html": [
       "<div>\n",
       "<style scoped>\n",
       "    .dataframe tbody tr th:only-of-type {\n",
       "        vertical-align: middle;\n",
       "    }\n",
       "\n",
       "    .dataframe tbody tr th {\n",
       "        vertical-align: top;\n",
       "    }\n",
       "\n",
       "    .dataframe thead th {\n",
       "        text-align: right;\n",
       "    }\n",
       "</style>\n",
       "<table border=\"1\" class=\"dataframe\">\n",
       "  <thead>\n",
       "    <tr style=\"text-align: right;\">\n",
       "      <th></th>\n",
       "      <th>WINorLOSS</th>\n",
       "      <th>TeamPoints</th>\n",
       "      <th>OpponentPoints</th>\n",
       "      <th>FieldGoals</th>\n",
       "      <th>FieldGoalsAttempted</th>\n",
       "      <th>FieldGoals.</th>\n",
       "      <th>X3PointShots</th>\n",
       "      <th>X3PointShotsAttempted</th>\n",
       "      <th>X3PointShots.</th>\n",
       "      <th>FreeThrows</th>\n",
       "      <th>...</th>\n",
       "      <th>Opp.FreeThrows</th>\n",
       "      <th>Opp.FreeThrowsAttempted</th>\n",
       "      <th>Opp.FreeThrows.</th>\n",
       "      <th>Opp.OffRebounds</th>\n",
       "      <th>Opp.TotalRebounds</th>\n",
       "      <th>Opp.Assists</th>\n",
       "      <th>Opp.Steals</th>\n",
       "      <th>Opp.Blocks</th>\n",
       "      <th>Opp.Turnovers</th>\n",
       "      <th>Opp.TotalFouls</th>\n",
       "    </tr>\n",
       "  </thead>\n",
       "  <tbody>\n",
       "    <tr>\n",
       "      <td>0</td>\n",
       "      <td>L</td>\n",
       "      <td>102</td>\n",
       "      <td>109</td>\n",
       "      <td>40</td>\n",
       "      <td>80</td>\n",
       "      <td>0.500</td>\n",
       "      <td>13</td>\n",
       "      <td>22</td>\n",
       "      <td>0.591</td>\n",
       "      <td>9</td>\n",
       "      <td>...</td>\n",
       "      <td>27</td>\n",
       "      <td>33</td>\n",
       "      <td>0.818</td>\n",
       "      <td>16</td>\n",
       "      <td>48</td>\n",
       "      <td>26</td>\n",
       "      <td>13</td>\n",
       "      <td>9</td>\n",
       "      <td>9</td>\n",
       "      <td>22</td>\n",
       "    </tr>\n",
       "    <tr>\n",
       "      <td>1</td>\n",
       "      <td>W</td>\n",
       "      <td>102</td>\n",
       "      <td>92</td>\n",
       "      <td>35</td>\n",
       "      <td>69</td>\n",
       "      <td>0.507</td>\n",
       "      <td>7</td>\n",
       "      <td>20</td>\n",
       "      <td>0.350</td>\n",
       "      <td>25</td>\n",
       "      <td>...</td>\n",
       "      <td>18</td>\n",
       "      <td>21</td>\n",
       "      <td>0.857</td>\n",
       "      <td>11</td>\n",
       "      <td>44</td>\n",
       "      <td>25</td>\n",
       "      <td>5</td>\n",
       "      <td>5</td>\n",
       "      <td>18</td>\n",
       "      <td>26</td>\n",
       "    </tr>\n",
       "    <tr>\n",
       "      <td>2</td>\n",
       "      <td>L</td>\n",
       "      <td>92</td>\n",
       "      <td>94</td>\n",
       "      <td>38</td>\n",
       "      <td>92</td>\n",
       "      <td>0.413</td>\n",
       "      <td>8</td>\n",
       "      <td>25</td>\n",
       "      <td>0.320</td>\n",
       "      <td>8</td>\n",
       "      <td>...</td>\n",
       "      <td>27</td>\n",
       "      <td>38</td>\n",
       "      <td>0.711</td>\n",
       "      <td>11</td>\n",
       "      <td>50</td>\n",
       "      <td>25</td>\n",
       "      <td>7</td>\n",
       "      <td>9</td>\n",
       "      <td>19</td>\n",
       "      <td>15</td>\n",
       "    </tr>\n",
       "    <tr>\n",
       "      <td>3</td>\n",
       "      <td>L</td>\n",
       "      <td>119</td>\n",
       "      <td>122</td>\n",
       "      <td>43</td>\n",
       "      <td>93</td>\n",
       "      <td>0.462</td>\n",
       "      <td>13</td>\n",
       "      <td>33</td>\n",
       "      <td>0.394</td>\n",
       "      <td>20</td>\n",
       "      <td>...</td>\n",
       "      <td>20</td>\n",
       "      <td>27</td>\n",
       "      <td>0.741</td>\n",
       "      <td>11</td>\n",
       "      <td>51</td>\n",
       "      <td>31</td>\n",
       "      <td>6</td>\n",
       "      <td>7</td>\n",
       "      <td>19</td>\n",
       "      <td>30</td>\n",
       "    </tr>\n",
       "    <tr>\n",
       "      <td>4</td>\n",
       "      <td>W</td>\n",
       "      <td>103</td>\n",
       "      <td>96</td>\n",
       "      <td>33</td>\n",
       "      <td>81</td>\n",
       "      <td>0.407</td>\n",
       "      <td>9</td>\n",
       "      <td>22</td>\n",
       "      <td>0.409</td>\n",
       "      <td>28</td>\n",
       "      <td>...</td>\n",
       "      <td>8</td>\n",
       "      <td>11</td>\n",
       "      <td>0.727</td>\n",
       "      <td>13</td>\n",
       "      <td>44</td>\n",
       "      <td>26</td>\n",
       "      <td>2</td>\n",
       "      <td>6</td>\n",
       "      <td>15</td>\n",
       "      <td>29</td>\n",
       "    </tr>\n",
       "  </tbody>\n",
       "</table>\n",
       "<p>5 rows × 35 columns</p>\n",
       "</div>"
      ],
      "text/plain": [
       "  WINorLOSS  TeamPoints  OpponentPoints  FieldGoals  FieldGoalsAttempted  \\\n",
       "0         L         102             109          40                   80   \n",
       "1         W         102              92          35                   69   \n",
       "2         L          92              94          38                   92   \n",
       "3         L         119             122          43                   93   \n",
       "4         W         103              96          33                   81   \n",
       "\n",
       "   FieldGoals.  X3PointShots  X3PointShotsAttempted  X3PointShots.  \\\n",
       "0        0.500            13                     22          0.591   \n",
       "1        0.507             7                     20          0.350   \n",
       "2        0.413             8                     25          0.320   \n",
       "3        0.462            13                     33          0.394   \n",
       "4        0.407             9                     22          0.409   \n",
       "\n",
       "   FreeThrows  ...  Opp.FreeThrows  Opp.FreeThrowsAttempted  Opp.FreeThrows.  \\\n",
       "0           9  ...              27                       33            0.818   \n",
       "1          25  ...              18                       21            0.857   \n",
       "2           8  ...              27                       38            0.711   \n",
       "3          20  ...              20                       27            0.741   \n",
       "4          28  ...               8                       11            0.727   \n",
       "\n",
       "   Opp.OffRebounds  Opp.TotalRebounds  Opp.Assists  Opp.Steals  Opp.Blocks  \\\n",
       "0               16                 48           26          13           9   \n",
       "1               11                 44           25           5           5   \n",
       "2               11                 50           25           7           9   \n",
       "3               11                 51           31           6           7   \n",
       "4               13                 44           26           2           6   \n",
       "\n",
       "   Opp.Turnovers  Opp.TotalFouls  \n",
       "0              9              22  \n",
       "1             18              26  \n",
       "2             19              15  \n",
       "3             19              30  \n",
       "4             15              29  \n",
       "\n",
       "[5 rows x 35 columns]"
      ]
     },
     "execution_count": 40,
     "metadata": {},
     "output_type": "execute_result"
    }
   ],
   "source": [
    "df.drop(['Unnamed: 0', 'Team', 'Game', 'Date', 'Home', 'Opponent'], axis=1, inplace=True)\n",
    "df.head()"
   ]
  },
  {
   "cell_type": "code",
   "execution_count": 41,
   "metadata": {},
   "outputs": [],
   "source": [
    "#Transformando os dados categóricos de  WINorLOSS para numeros\n",
    "from sklearn import preprocessing\n",
    "le = preprocessing.LabelEncoder()\n",
    "le.fit(df['WINorLOSS'])\n",
    "df['WINorLOSS'] = le.transform(df['WINorLOSS'])"
   ]
  },
  {
   "cell_type": "code",
   "execution_count": 42,
   "metadata": {},
   "outputs": [],
   "source": [
    "#importando para separar dos dados de teste e de treino\n",
    "from sklearn.model_selection import train_test_split"
   ]
  },
  {
   "cell_type": "code",
   "execution_count": 43,
   "metadata": {},
   "outputs": [],
   "source": [
    "#separando a base de dados\n",
    "x = df.drop('WINorLOSS',axis=1)\n",
    "x = x.fillna(x.mean())\n",
    "y = df['WINorLOSS']\n",
    "y = y.fillna(y.mean())"
   ]
  },
  {
   "cell_type": "code",
   "execution_count": 44,
   "metadata": {},
   "outputs": [],
   "source": [
    "#separando os dados de treino de teste sendo 40% para teste e 60% para treino e escolhedo o um random \n",
    "x_treino, x_teste, y_treino, y_teste = train_test_split(x,y,test_size=0.3,random_state=101)\n",
    "aux = y_teste.reset_index()\n",
    "aux.drop('index',axis=1,inplace=True)"
   ]
  },
  {
   "cell_type": "code",
   "execution_count": 45,
   "metadata": {},
   "outputs": [],
   "source": [
    "#importando o algoritmo de arvore de decisão\n",
    "from sklearn.tree import DecisionTreeClassifier\n",
    "arD = DecisionTreeClassifier()"
   ]
  },
  {
   "cell_type": "code",
   "execution_count": 46,
   "metadata": {},
   "outputs": [
    {
     "data": {
      "text/plain": [
       "DecisionTreeClassifier(class_weight=None, criterion='gini', max_depth=None,\n",
       "                       max_features=None, max_leaf_nodes=None,\n",
       "                       min_impurity_decrease=0.0, min_impurity_split=None,\n",
       "                       min_samples_leaf=1, min_samples_split=2,\n",
       "                       min_weight_fraction_leaf=0.0, presort=False,\n",
       "                       random_state=None, splitter='best')"
      ]
     },
     "execution_count": 46,
     "metadata": {},
     "output_type": "execute_result"
    }
   ],
   "source": [
    "arD.fit(x_treino,y_treino)"
   ]
  },
  {
   "cell_type": "code",
   "execution_count": 47,
   "metadata": {},
   "outputs": [],
   "source": [
    "predicao = arD.predict(x_teste)"
   ]
  },
  {
   "cell_type": "code",
   "execution_count": 48,
   "metadata": {},
   "outputs": [
    {
     "data": {
      "text/plain": [
       "Text(0, 0.5, 'Y valor predito')"
      ]
     },
     "execution_count": 48,
     "metadata": {},
     "output_type": "execute_result"
    },
    {
     "data": {
      "image/png": "[encoded data removed]",
      "text/plain": [
       "<Figure size 1440x360 with 1 Axes>"
      ]
     },
     "metadata": {
      "needs_background": "light"
     },
     "output_type": "display_data"
    }
   ],
   "source": [
    "plt.figure(figsize=(20,5))\n",
    "plt.plot(aux[:150], 'o')\n",
    "plt.plot(predicao[:150], '+')\n",
    "plt.xlabel('X valor real')\n",
    "plt.ylabel('Y valor predito')"
   ]
  },
  {
   "cell_type": "code",
   "execution_count": 49,
   "metadata": {},
   "outputs": [
    {
     "name": "stdout",
     "output_type": "stream",
     "text": [
      "MAE: 0.011517615176151762\n",
      "MSE: 0.011517615176151762\n",
      "RMSE: 0.10732015270279745\n"
     ]
    }
   ],
   "source": [
    "from sklearn import metrics\n",
    "#MAE é o mais fácil de entender, porque é o erro médio.\n",
    "#MSE é mais popular que o MAE, porque a MSE \"puniria\" erros maiores, o que tende a ser útil no mundo real.\n",
    "#RMSE é ainda mais popular do que MSE, porque o RMSE é interpretável nas unidades \"y\".\n",
    "print('MAE:', metrics.mean_absolute_error(y_teste, predicao))\n",
    "print('MSE:', metrics.mean_squared_error(y_teste, predicao))\n",
    "print('RMSE:', np.sqrt(metrics.mean_squared_error(y_teste, predicao)))"
   ]
  },
  {
   "cell_type": "code",
   "execution_count": 50,
   "metadata": {},
   "outputs": [
    {
     "name": "stdout",
     "output_type": "stream",
     "text": [
      "Variance score: 0.99\n"
     ]
    }
   ],
   "source": [
    "print('Variance score: %.2f' % arD.score(x_teste,aux))\n",
    "acuracia = arD.score(x_teste,aux) * 100"
   ]
  },
  {
   "cell_type": "code",
   "execution_count": 51,
   "metadata": {},
   "outputs": [],
   "source": [
    "#fazendo a predicao usando cross-valodation\n",
    "from sklearn.model_selection import cross_val_score\n",
    "scores = cross_val_score(arD,x,y, cv=10)\n",
    "acuraciacross = max(scores) * 100"
   ]
  },
  {
   "cell_type": "code",
   "execution_count": 52,
   "metadata": {},
   "outputs": [
    {
     "name": "stdout",
     "output_type": "stream",
     "text": [
      "Variance Cros-Validation rscore: 1.00\n"
     ]
    }
   ],
   "source": [
    "print('Variance Cros-Validation rscore: %.2f' % max(scores))"
   ]
  },
  {
   "cell_type": "code",
   "execution_count": 53,
   "metadata": {},
   "outputs": [
    {
     "name": "stdout",
     "output_type": "stream",
     "text": [
      "              precision    recall  f1-score   support\n",
      "\n",
      "           0       0.99      0.99      0.99      1476\n",
      "           1       0.99      0.99      0.99      1476\n",
      "\n",
      "    accuracy                           0.99      2952\n",
      "   macro avg       0.99      0.99      0.99      2952\n",
      "weighted avg       0.99      0.99      0.99      2952\n",
      "\n"
     ]
    }
   ],
   "source": [
    "from sklearn.metrics import classification_report\n",
    "print(classification_report(y_teste,predicao))"
   ]
  },
  {
   "cell_type": "code",
   "execution_count": 54,
   "metadata": {},
   "outputs": [
    {
     "name": "stdout",
     "output_type": "stream",
     "text": [
      "[[1461   15]\n",
      " [  19 1457]]\n"
     ]
    }
   ],
   "source": [
    "from sklearn.metrics import confusion_matrix\n",
    "print(confusion_matrix(y_teste,predicao))"
   ]
  },
  {
   "cell_type": "code",
   "execution_count": 62,
   "metadata": {},
   "outputs": [
    {
     "data": {
      "image/png": "[encoded data removed]",
      "text/plain": [
       "<Figure size 1080x360 with 2 Axes>"
      ]
     },
     "metadata": {
      "needs_background": "light"
     },
     "output_type": "display_data"
    }
   ],
   "source": [
    "plt.figure(figsize=(15,5))\n",
    "plt.suptitle('Arvore decisão')\n",
    "\n",
    "plt.subplot(1, 2, 1)\n",
    "plt.title(\"Teste Normal\")\n",
    "\n",
    "graph = sns.barplot(x=['VxD'], y=[acuracia],palette='bright')\n",
    "#for p in graph.patches:\n",
    "#    graph.annotate(format(p.get_height(), '.2f') + \"%\", (p.get_x() + p.get_width() / 2., p.get_height()), ha = 'center', va = 'center', xytext = (0, 8), textcoords = 'offset points')\n",
    "plt.ylabel(\"Precisão\")\n",
    "plt.ylim([0, 100])\n",
    "plt.subplot(1, 2, 2)\n",
    "plt.title(\"Cross Validation\")\n",
    "graph2 = sns.barplot(x=['VxD'], y=[acuraciacross],palette='bright')\n",
    "#for p in graph2.patches:\n",
    "#    graph2.annotate(format(p.get_height(), '.2f') + \"%\", (p.get_x() + p.get_width() / 2., p.get_height()), ha = 'center', va = 'center', xytext = (0, 8), textcoords = 'offset points')\n",
    "plt.ylabel(\"Precisão\")\n",
    "plt.ylim([0, 100])\n",
    "plt.savefig('img/arvoredecisao.png')"
   ]
  },
  {
   "cell_type": "code",
   "execution_count": null,
   "metadata": {},
   "outputs": [],
   "source": []
  }
 ],
 "metadata": {
  "kernelspec": {
   "display_name": "Python 3",
   "language": "python",
   "name": "python3"
  },
  "language_info": {
   "codemirror_mode": {
    "name": "ipython",
    "version": 3
   },
   "file_extension": ".py",
   "mimetype": "text/x-python",
   "name": "python",
   "nbconvert_exporter": "python",
   "pygments_lexer": "ipython3",
   "version": "3.7.4"
  }
 },
 "nbformat": 4,
 "nbformat_minor": 4
}
