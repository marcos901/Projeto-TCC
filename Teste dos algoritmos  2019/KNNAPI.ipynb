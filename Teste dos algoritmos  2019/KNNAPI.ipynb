{
 "cells": [
  {
   "cell_type": "code",
   "execution_count": 269,
   "metadata": {},
   "outputs": [],
   "source": [
    "#importandoa as biblioetcas usadas para a preparação dos dados e predição\n",
    "import pandas as pd\n",
    "import numpy as np\n",
    "import matplotlib.pyplot as plt\n",
    "import seaborn as sns\n",
    "%matplotlib inline"
   ]
  },
  {
   "cell_type": "code",
   "execution_count": 270,
   "metadata": {},
   "outputs": [],
   "source": [
    "#importando as biblioteca da api\n",
    "from nba_api.stats.static import teams\n",
    "from nba_api.stats.endpoints import leaguegamefinder\n",
    "#buscando todos os jogos\n",
    "result = leaguegamefinder.LeagueGameFinder()\n",
    "todosJogos = result.get_data_frames()[0]"
   ]
  },
  {
   "cell_type": "code",
   "execution_count": 271,
   "metadata": {},
   "outputs": [],
   "source": [
    "#tranformando os dados da api em um dataframe\n",
    "df = pd.DataFrame(todosJogos)"
   ]
  },
  {
   "cell_type": "code",
   "execution_count": 272,
   "metadata": {},
   "outputs": [
    {
     "data": {
      "text/html": [
       "<div>\n",
       "<style scoped>\n",
       "    .dataframe tbody tr th:only-of-type {\n",
       "        vertical-align: middle;\n",
       "    }\n",
       "\n",
       "    .dataframe tbody tr th {\n",
       "        vertical-align: top;\n",
       "    }\n",
       "\n",
       "    .dataframe thead th {\n",
       "        text-align: right;\n",
       "    }\n",
       "</style>\n",
       "<table border=\"1\" class=\"dataframe\">\n",
       "  <thead>\n",
       "    <tr style=\"text-align: right;\">\n",
       "      <th></th>\n",
       "      <th>WL</th>\n",
       "      <th>MIN</th>\n",
       "      <th>PTS</th>\n",
       "      <th>FGM</th>\n",
       "      <th>FGA</th>\n",
       "      <th>FG_PCT</th>\n",
       "      <th>FG3M</th>\n",
       "      <th>FG3A</th>\n",
       "      <th>FG3_PCT</th>\n",
       "      <th>FTM</th>\n",
       "      <th>...</th>\n",
       "      <th>FT_PCT</th>\n",
       "      <th>OREB</th>\n",
       "      <th>DREB</th>\n",
       "      <th>REB</th>\n",
       "      <th>AST</th>\n",
       "      <th>STL</th>\n",
       "      <th>BLK</th>\n",
       "      <th>TOV</th>\n",
       "      <th>PF</th>\n",
       "      <th>PLUS_MINUS</th>\n",
       "    </tr>\n",
       "  </thead>\n",
       "  <tbody>\n",
       "    <tr>\n",
       "      <td>0</td>\n",
       "      <td>L</td>\n",
       "      <td>241</td>\n",
       "      <td>106</td>\n",
       "      <td>41</td>\n",
       "      <td>85</td>\n",
       "      <td>0.482</td>\n",
       "      <td>6</td>\n",
       "      <td>29</td>\n",
       "      <td>0.207</td>\n",
       "      <td>18</td>\n",
       "      <td>...</td>\n",
       "      <td>0.750</td>\n",
       "      <td>10</td>\n",
       "      <td>37</td>\n",
       "      <td>47</td>\n",
       "      <td>21</td>\n",
       "      <td>11</td>\n",
       "      <td>8</td>\n",
       "      <td>16</td>\n",
       "      <td>21</td>\n",
       "      <td>-6.0</td>\n",
       "    </tr>\n",
       "    <tr>\n",
       "      <td>1</td>\n",
       "      <td>L</td>\n",
       "      <td>242</td>\n",
       "      <td>95</td>\n",
       "      <td>33</td>\n",
       "      <td>91</td>\n",
       "      <td>0.363</td>\n",
       "      <td>16</td>\n",
       "      <td>49</td>\n",
       "      <td>0.327</td>\n",
       "      <td>8</td>\n",
       "      <td>...</td>\n",
       "      <td>0.615</td>\n",
       "      <td>18</td>\n",
       "      <td>41</td>\n",
       "      <td>59</td>\n",
       "      <td>22</td>\n",
       "      <td>6</td>\n",
       "      <td>11</td>\n",
       "      <td>19</td>\n",
       "      <td>22</td>\n",
       "      <td>-4.0</td>\n",
       "    </tr>\n",
       "    <tr>\n",
       "      <td>2</td>\n",
       "      <td>L</td>\n",
       "      <td>241</td>\n",
       "      <td>116</td>\n",
       "      <td>41</td>\n",
       "      <td>99</td>\n",
       "      <td>0.414</td>\n",
       "      <td>12</td>\n",
       "      <td>48</td>\n",
       "      <td>0.250</td>\n",
       "      <td>22</td>\n",
       "      <td>...</td>\n",
       "      <td>0.815</td>\n",
       "      <td>9</td>\n",
       "      <td>31</td>\n",
       "      <td>40</td>\n",
       "      <td>21</td>\n",
       "      <td>13</td>\n",
       "      <td>4</td>\n",
       "      <td>12</td>\n",
       "      <td>21</td>\n",
       "      <td>-7.0</td>\n",
       "    </tr>\n",
       "    <tr>\n",
       "      <td>3</td>\n",
       "      <td>W</td>\n",
       "      <td>241</td>\n",
       "      <td>104</td>\n",
       "      <td>33</td>\n",
       "      <td>74</td>\n",
       "      <td>0.446</td>\n",
       "      <td>11</td>\n",
       "      <td>34</td>\n",
       "      <td>0.324</td>\n",
       "      <td>27</td>\n",
       "      <td>...</td>\n",
       "      <td>0.931</td>\n",
       "      <td>3</td>\n",
       "      <td>41</td>\n",
       "      <td>44</td>\n",
       "      <td>21</td>\n",
       "      <td>7</td>\n",
       "      <td>4</td>\n",
       "      <td>14</td>\n",
       "      <td>16</td>\n",
       "      <td>2.0</td>\n",
       "    </tr>\n",
       "    <tr>\n",
       "      <td>4</td>\n",
       "      <td>L</td>\n",
       "      <td>242</td>\n",
       "      <td>91</td>\n",
       "      <td>34</td>\n",
       "      <td>91</td>\n",
       "      <td>0.374</td>\n",
       "      <td>12</td>\n",
       "      <td>37</td>\n",
       "      <td>0.324</td>\n",
       "      <td>11</td>\n",
       "      <td>...</td>\n",
       "      <td>0.647</td>\n",
       "      <td>10</td>\n",
       "      <td>30</td>\n",
       "      <td>40</td>\n",
       "      <td>21</td>\n",
       "      <td>8</td>\n",
       "      <td>3</td>\n",
       "      <td>16</td>\n",
       "      <td>16</td>\n",
       "      <td>-32.0</td>\n",
       "    </tr>\n",
       "  </tbody>\n",
       "</table>\n",
       "<p>5 rows × 21 columns</p>\n",
       "</div>"
      ],
      "text/plain": [
       "  WL  MIN  PTS  FGM  FGA  FG_PCT  FG3M  FG3A  FG3_PCT  FTM  ...  FT_PCT  OREB  \\\n",
       "0  L  241  106   41   85   0.482     6    29    0.207   18  ...   0.750    10   \n",
       "1  L  242   95   33   91   0.363    16    49    0.327    8  ...   0.615    18   \n",
       "2  L  241  116   41   99   0.414    12    48    0.250   22  ...   0.815     9   \n",
       "3  W  241  104   33   74   0.446    11    34    0.324   27  ...   0.931     3   \n",
       "4  L  242   91   34   91   0.374    12    37    0.324   11  ...   0.647    10   \n",
       "\n",
       "   DREB  REB  AST  STL  BLK  TOV  PF  PLUS_MINUS  \n",
       "0    37   47   21   11    8   16  21        -6.0  \n",
       "1    41   59   22    6   11   19  22        -4.0  \n",
       "2    31   40   21   13    4   12  21        -7.0  \n",
       "3    41   44   21    7    4   14  16         2.0  \n",
       "4    30   40   21    8    3   16  16       -32.0  \n",
       "\n",
       "[5 rows x 21 columns]"
      ]
     },
     "execution_count": 272,
     "metadata": {},
     "output_type": "execute_result"
    }
   ],
   "source": [
    "#retirando os dados que nao sera usado na api\n",
    "df.drop(['SEASON_ID', 'TEAM_ID', 'TEAM_ABBREVIATION', 'TEAM_NAME', 'GAME_ID','GAME_DATE', 'MATCHUP'], axis=1, inplace=True)\n",
    "df.head()"
   ]
  },
  {
   "cell_type": "code",
   "execution_count": 273,
   "metadata": {},
   "outputs": [],
   "source": [
    "df['WL'] = pd.get_dummies(df['WL'])"
   ]
  },
  {
   "cell_type": "code",
   "execution_count": 274,
   "metadata": {},
   "outputs": [],
   "source": [
    "#Transformando os dados categóricos de  WINorLOSS para numeros\n",
    "from sklearn import preprocessing\n",
    "le = preprocessing.LabelEncoder()\n",
    "le.fit(df['WL'])\n",
    "df['WL'] = df['WL'].fillna(df['WL'].mean())\n",
    "df['WL'] = le.transform(df['WL'])"
   ]
  },
  {
   "cell_type": "code",
   "execution_count": 275,
   "metadata": {},
   "outputs": [],
   "source": [
    "#normalizando os dados\n",
    "from sklearn.preprocessing import StandardScaler\n",
    "scaler = StandardScaler()\n",
    "scaler.fit(df.drop('WL',axis=1))\n",
    "df_normalizado = scaler.transform(df.drop('WL',axis=1))\n",
    "from sklearn.preprocessing import StandardScaler\n",
    "df_param = pd.DataFrame(df_normalizado, columns=df.columns[1:])\n",
    "df_param = df_param.fillna(df_param.mean())"
   ]
  },
  {
   "cell_type": "code",
   "execution_count": 276,
   "metadata": {},
   "outputs": [],
   "source": [
    "#importando para separar dos dados de teste e de treino\n",
    "from sklearn.model_selection import train_test_split"
   ]
  },
  {
   "cell_type": "code",
   "execution_count": 277,
   "metadata": {},
   "outputs": [],
   "source": [
    "#separando os dados de treino de teste sendo 40% para teste e 60% para treino e escolhedo o um random \n",
    "x_treino, x_teste, y_treino, y_teste = train_test_split(df_param,df['WL'],test_size=0.4,random_state=101)\n",
    "aux = y_teste.reset_index()\n",
    "aux.drop('index',axis=1,inplace=True)"
   ]
  },
  {
   "cell_type": "code",
   "execution_count": 278,
   "metadata": {},
   "outputs": [],
   "source": [
    "#prenchendo os dados faltantes com a media dos valores\n",
    "x_treino = x_treino.fillna(x_treino.mean())\n",
    "x_teste = x_teste.fillna(x_teste.mean())\n",
    "y_treino = y_treino.fillna(y_treino.mean())\n",
    "y_teste = y_teste.fillna(y_teste.mean())"
   ]
  },
  {
   "cell_type": "code",
   "execution_count": 279,
   "metadata": {},
   "outputs": [],
   "source": [
    "#importando o algoritmo de vou uzar para a prediçao e inicializando\n",
    "from sklearn.neighbors import KNeighborsClassifier\n",
    "knn = KNeighborsClassifier(n_neighbors=1)"
   ]
  },
  {
   "cell_type": "code",
   "execution_count": 280,
   "metadata": {},
   "outputs": [
    {
     "data": {
      "text/plain": [
       "KNeighborsClassifier(algorithm='auto', leaf_size=30, metric='minkowski',\n",
       "                     metric_params=None, n_jobs=None, n_neighbors=1, p=2,\n",
       "                     weights='uniform')"
      ]
     },
     "execution_count": 280,
     "metadata": {},
     "output_type": "execute_result"
    }
   ],
   "source": [
    "#encontrando e fazendo os modelos de treino e fazendo a normalização dos dados\n",
    "y_treino = le.fit_transform(y_treino)\n",
    "knn.fit(x_treino,y_treino)"
   ]
  },
  {
   "cell_type": "code",
   "execution_count": 281,
   "metadata": {},
   "outputs": [],
   "source": [
    "#fazendo a prediçao\n",
    "predicao = knn.predict(x_teste)"
   ]
  },
  {
   "cell_type": "code",
   "execution_count": 282,
   "metadata": {},
   "outputs": [
    {
     "data": {
      "text/plain": [
       "Text(0, 0.5, 'Y valor predito')"
      ]
     },
     "execution_count": 282,
     "metadata": {},
     "output_type": "execute_result"
    },
    {
     "data": {
      "image/png": "[encoded data removed]",
      "text/plain": [
       "<Figure size 1440x360 with 1 Axes>"
      ]
     },
     "metadata": {
      "needs_background": "light"
     },
     "output_type": "display_data"
    }
   ],
   "source": [
    "plt.figure(figsize=(20,5))\n",
    "plt.plot(aux[:150], 'o')\n",
    "plt.plot(predicao[:150], '+')\n",
    "plt.xlabel('X valor real')\n",
    "plt.ylabel('Y valor predito')"
   ]
  },
  {
   "cell_type": "code",
   "execution_count": 283,
   "metadata": {},
   "outputs": [
    {
     "name": "stdout",
     "output_type": "stream",
     "text": [
      "MAE: 0.14091666666666666\n",
      "MSE: 0.14091666666666666\n",
      "RMSE: 0.3753886874516421\n"
     ]
    }
   ],
   "source": [
    "from sklearn import metrics\n",
    "#MAE é o mais fácil de entender, porque é o erro médio.\n",
    "#MSE é mais popular que o MAE, porque a MSE \"puniria\" erros maiores, o que tende a ser útil no mundo real.\n",
    "#RMSE é ainda mais popular do que MSE, porque o RMSE é interpretável nas unidades \"y\".\n",
    "print('MAE:', metrics.mean_absolute_error(y_teste, predicao))\n",
    "print('MSE:', metrics.mean_squared_error(y_teste, predicao))\n",
    "print('RMSE:', np.sqrt(metrics.mean_squared_error(y_teste, predicao)))"
   ]
  },
  {
   "cell_type": "code",
   "execution_count": 284,
   "metadata": {},
   "outputs": [
    {
     "name": "stdout",
     "output_type": "stream",
     "text": [
      "Variance score: 0.86\n"
     ]
    }
   ],
   "source": [
    "print('Variance score: %.2f' % knn.score(x_teste,aux))"
   ]
  },
  {
   "cell_type": "code",
   "execution_count": 287,
   "metadata": {},
   "outputs": [],
   "source": [
    "from sklearn.model_selection import cross_val_score\n",
    "aux1 = le.fit_transform(df['WL'])\n",
    "scores = cross_val_score(knn, df_param,aux1, cv=10)"
   ]
  },
  {
   "cell_type": "code",
   "execution_count": 288,
   "metadata": {},
   "outputs": [
    {
     "name": "stdout",
     "output_type": "stream",
     "text": [
      "Variance Cros-Validation rscore: 0.89\n"
     ]
    }
   ],
   "source": [
    "print('Variance Cros-Validation rscore: %.2f' % max(scores))"
   ]
  },
  {
   "cell_type": "code",
   "execution_count": 289,
   "metadata": {},
   "outputs": [
    {
     "name": "stdout",
     "output_type": "stream",
     "text": [
      "              precision    recall  f1-score   support\n",
      "\n",
      "           0       0.86      0.86      0.86      6063\n",
      "           1       0.85      0.86      0.86      5937\n",
      "\n",
      "    accuracy                           0.86     12000\n",
      "   macro avg       0.86      0.86      0.86     12000\n",
      "weighted avg       0.86      0.86      0.86     12000\n",
      "\n"
     ]
    }
   ],
   "source": [
    "from sklearn.metrics import classification_report\n",
    "print(classification_report(y_teste,predicao))"
   ]
  },
  {
   "cell_type": "code",
   "execution_count": null,
   "metadata": {},
   "outputs": [],
   "source": []
  }
 ],
 "metadata": {
  "kernelspec": {
   "display_name": "Python 3",
   "language": "python",
   "name": "python3"
  },
  "language_info": {
   "codemirror_mode": {
    "name": "ipython",
    "version": 3
   },
   "file_extension": ".py",
   "mimetype": "text/x-python",
   "name": "python",
   "nbconvert_exporter": "python",
   "pygments_lexer": "ipython3",
   "version": "3.7.4"
  }
 },
 "nbformat": 4,
 "nbformat_minor": 4
}
